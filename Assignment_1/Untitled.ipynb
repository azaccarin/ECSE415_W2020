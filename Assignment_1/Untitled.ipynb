{
 "cells": [
  {
   "cell_type": "code",
   "execution_count": null,
   "metadata": {},
   "outputs": [],
   "source": [
    "# imports used in this assignment\n",
    "\n",
    "import numpy as np\n",
    "import cv2\n",
    "import matplotlib.pyplot as plt\n",
    "import copy"
   ]
  },
  {
   "cell_type": "code",
   "execution_count": null,
   "metadata": {},
   "outputs": [],
   "source": [
    "# 2 - Denoising - White Noise Lighthouse\n",
    "\n",
    "#load white noise image\n",
    "image_path_wn = \"./gaussian_lighthouse.png\" \n",
    "lighthouse_wn = cv2.imread(image_path_wn)\n",
    "lighthouse_wn = cv2.cvtColor(img_wn, cv2.COLOR_BGR2RGB)\n",
    "\n",
    "#gaussian filter\n",
    "filt_gauss_wn = cv2.GaussianBlur(lighthouse_wn, (5,5), 2)\n",
    "\n",
    "#box filter\n",
    "kernel = np.ones((5,5), np.float32)/(5*5)\n",
    "filt_box_wn = cv2.filter2D(lighthouse_wn, -1, kernel)\n",
    "\n",
    "plt.subplot(121), plt.imshow(filt_gauss_wn)\n",
    "plt.xticks([]), plt.yticks([]), plt.title('Gaussian Filtered','Lighthouse')\n",
    "plt.subplot(122), plt.imshow(filt_box_wn)\n",
    "plt.xticks([]), plt.yticks([]), plt.title('Box Filtered','Lighthouse')\n",
    "plt.show()\n",
    "\n",
    "#\n",
    "\n"
   ]
  }
 ],
 "metadata": {
  "kernelspec": {
   "display_name": "Python 3",
   "language": "python",
   "name": "python3"
  },
  "language_info": {
   "codemirror_mode": {
    "name": "ipython",
    "version": 3
   },
   "file_extension": ".py",
   "mimetype": "text/x-python",
   "name": "python",
   "nbconvert_exporter": "python",
   "pygments_lexer": "ipython3",
   "version": "3.7.1"
  }
 },
 "nbformat": 4,
 "nbformat_minor": 2
}
